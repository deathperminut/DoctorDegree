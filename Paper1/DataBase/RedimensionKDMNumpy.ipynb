{
  "metadata": {
    "kernelspec": {
      "display_name": "Python 3",
      "name": "python3"
    },
    "language_info": {
      "name": "python",
      "version": "3.10.12",
      "mimetype": "text/x-python",
      "codemirror_mode": {
        "name": "ipython",
        "version": 3
      },
      "pygments_lexer": "ipython3",
      "nbconvert_exporter": "python",
      "file_extension": ".py"
    },
    "kaggle": {
      "accelerator": "none",
      "dataSources": [
        {
          "sourceId": 10543572,
          "sourceType": "datasetVersion",
          "datasetId": 6522239
        }
      ],
      "dockerImageVersionId": 30839,
      "isInternetEnabled": false,
      "language": "python",
      "sourceType": "notebook",
      "isGpuEnabled": false
    },
    "colab": {
      "provenance": [],
      "machine_shape": "hm",
      "gpuType": "A100"
    },
    "accelerator": "GPU"
  },
  "nbformat_minor": 0,
  "nbformat": 4,
  "cells": [
    {
      "cell_type": "code",
      "source": [
        "# This Python 3 environment comes with many helpful analytics libraries installed\n",
        "# It is defined by the kaggle/python Docker image: https://github.com/kaggle/docker-python\n",
        "# For example, here's several helpful packages to load\n",
        "\n",
        "import numpy as np # linear algebra\n",
        "import pandas as pd # data processing, CSV file I/O (e.g. pd.read_csv)\n",
        "\n",
        "# Input data files are available in the read-only \"../input/\" directory\n",
        "# For example, running this (by clicking run or pressing Shift+Enter) will list all files under the input directory\n",
        "\n",
        "# import os\n",
        "# for dirname, _, filenames in os.walk('/kaggle/input'):\n",
        "#     for filename in filenames:\n",
        "#         print(os.path.join(dirname, filename))\n",
        "\n",
        "# You can write up to 20GB to the current directory (/kaggle/working/) that gets preserved as output when you create a version using \"Save & Run All\"\n",
        "# You can also write temporary files to /kaggle/temp/, but they won't be saved outside of the current session"
      ],
      "metadata": {
        "_uuid": "8f2839f25d086af736a60e9eeb907d3b93b6e0e5",
        "_cell_guid": "b1076dfc-b9ad-4769-8c92-a6c4dae69d19",
        "trusted": true,
        "execution": {
          "iopub.status.busy": "2025-02-05T01:16:23.891423Z",
          "iopub.execute_input": "2025-02-05T01:16:23.891743Z",
          "iopub.status.idle": "2025-02-05T01:16:24.300441Z",
          "shell.execute_reply.started": "2025-02-05T01:16:23.891709Z",
          "shell.execute_reply": "2025-02-05T01:16:24.299416Z"
        },
        "id": "iU58R_ZxvZ4g"
      },
      "outputs": [],
      "execution_count": null
    },
    {
      "cell_type": "code",
      "source": [
        "import shutil\n",
        "import os\n",
        "import zipfile\n",
        "import numpy as np\n",
        "import tensorflow as tf\n",
        "from tensorflow.keras import layers, models, backend as K\n",
        "import numpy as np\n",
        "import matplotlib.pyplot as plt\n",
        "from sklearn.model_selection import train_test_split\n",
        "from sklearn.metrics import mean_squared_error\n",
        "from sklearn.preprocessing import MinMaxScaler, StandardScaler\n",
        "import tensorflow as tf\n",
        "from tensorflow.keras import layers, models\n",
        "from sklearn.metrics import mean_squared_error, mean_absolute_error\n",
        "from tensorflow.keras.applications import DenseNet121\n",
        "import tensorflow as tf\n",
        "from tensorflow.keras import layers, models\n",
        "from sklearn.metrics import mean_squared_error, mean_absolute_error\n",
        "from sklearn.preprocessing import MinMaxScaler"
      ],
      "metadata": {
        "trusted": true,
        "id": "IYUoU-7kvZ4k"
      },
      "outputs": [],
      "execution_count": null
    },
    {
      "cell_type": "code",
      "source": [
        "import matplotlib.pyplot as plt"
      ],
      "metadata": {
        "trusted": true,
        "execution": {
          "iopub.status.busy": "2025-02-05T01:16:24.301567Z",
          "iopub.execute_input": "2025-02-05T01:16:24.302187Z",
          "iopub.status.idle": "2025-02-05T01:16:24.306589Z",
          "shell.execute_reply.started": "2025-02-05T01:16:24.302158Z",
          "shell.execute_reply": "2025-02-05T01:16:24.305558Z"
        },
        "id": "uZBFQ6uDvZ4l"
      },
      "outputs": [],
      "execution_count": null
    },
    {
      "cell_type": "markdown",
      "source": [
        "## CARGAMOS LOS PARAMETROS"
      ],
      "metadata": {
        "id": "wI2OlueRvZ4m"
      }
    },
    {
      "cell_type": "code",
      "source": [
        "#load data\n",
        "# Crear la carpeta .kaggle si no existe\n",
        "os.makedirs(\"/root/.kaggle\", exist_ok=True)\n",
        "# Mover el archivo kaggle.json a la carpeta\n",
        "shutil.move(\"kaggle.json\", \"/root/.kaggle/kaggle.json\")\n",
        "# Dar permisos adecuados\n",
        "os.chmod(\"/root/.kaggle/kaggle.json\", 600)"
      ],
      "metadata": {
        "trusted": true,
        "execution": {
          "iopub.status.busy": "2025-02-05T01:17:53.999790Z",
          "iopub.execute_input": "2025-02-05T01:17:54.000201Z",
          "iopub.status.idle": "2025-02-05T01:17:54.023904Z",
          "shell.execute_reply.started": "2025-02-05T01:17:54.000167Z",
          "shell.execute_reply": "2025-02-05T01:17:54.022936Z"
        },
        "id": "Ai4LejrZvZ4n"
      },
      "outputs": [],
      "execution_count": null
    },
    {
      "cell_type": "code",
      "source": [
        "!kaggle datasets download -d deathperminut/kdm-database-spiners"
      ],
      "metadata": {
        "colab": {
          "base_uri": "https://localhost:8080/"
        },
        "id": "mad-lRePwR4O",
        "outputId": "675e279d-db16-4ebd-ac9f-b5184791bd25"
      },
      "execution_count": null,
      "outputs": [
        {
          "output_type": "stream",
          "name": "stdout",
          "text": [
            "Dataset URL: https://www.kaggle.com/datasets/deathperminut/kdm-database-spiners\n",
            "License(s): CC0-1.0\n",
            "Downloading kdm-database-spiners.zip to /content\n",
            " 99% 396M/400M [00:00<00:00, 1.38GB/s]\n",
            "100% 400M/400M [00:00<00:00, 1.38GB/s]\n"
          ]
        }
      ]
    },
    {
      "cell_type": "code",
      "source": [
        "# Nombre del archivo descargado (ajústalo según sea necesario)\n",
        "dataset_zip = \"/content/kdm-database-spiners.zip\"\n",
        "# Extraer los archivos\n",
        "with zipfile.ZipFile(dataset_zip, 'r') as zip_ref:\n",
        "    zip_ref.extractall(\"dataset\")\n",
        "# Ver archivos extraídos\n",
        "os.listdir(\"dataset\")"
      ],
      "metadata": {
        "colab": {
          "base_uri": "https://localhost:8080/"
        },
        "id": "XW3wf8fZwYmG",
        "outputId": "6d5466fb-ff0e-4f1f-a5f5-d9a921d52e09"
      },
      "execution_count": null,
      "outputs": [
        {
          "output_type": "execute_result",
          "data": {
            "text/plain": [
              "['data.npy.npz']"
            ]
          },
          "metadata": {},
          "execution_count": 6
        }
      ]
    },
    {
      "cell_type": "code",
      "source": [
        "#load data\n",
        "file_ = '/content/dataset/data.npy.npz'\n",
        "data = np.load(file_)\n",
        "MS,Nest,L,rd,So,T,Jex,Jex2,Jex3,Jex4,Kan1,KanS,Hex,kd,KDM = data['MS'],data['Nest'],data['L'],data['rd'],data['So'],data['T'],data['Jex'],data['Jex2'],data['Jex3'],data['Jex4'],data['Kan1'],data['KanS'],data['Hex'],data['kd'],data['KDM']"
      ],
      "metadata": {
        "id": "ZmzCuaxKzY88"
      },
      "execution_count": null,
      "outputs": []
    },
    {
      "cell_type": "code",
      "source": [
        "MS.shape"
      ],
      "metadata": {
        "colab": {
          "base_uri": "https://localhost:8080/"
        },
        "id": "e17cf-JeIvtr",
        "outputId": "6978a498-1f9a-4353-fe2e-57401d332c27"
      },
      "execution_count": null,
      "outputs": [
        {
          "output_type": "execute_result",
          "data": {
            "text/plain": [
              "(164212, 39, 39, 1)"
            ]
          },
          "metadata": {},
          "execution_count": 8
        }
      ]
    },
    {
      "cell_type": "code",
      "source": [
        "KDM.shape"
      ],
      "metadata": {
        "colab": {
          "base_uri": "https://localhost:8080/"
        },
        "id": "zvyVSn2PWpld",
        "outputId": "9f79c010-fa22-46b9-e617-aca1f2aa0a1f"
      },
      "execution_count": null,
      "outputs": [
        {
          "output_type": "execute_result",
          "data": {
            "text/plain": [
              "(164212,)"
            ]
          },
          "metadata": {},
          "execution_count": 31
        }
      ]
    },
    {
      "cell_type": "code",
      "source": [
        "plt.hist(KDM)  ## LISTADO DE VARIABLES KDM,T,Nest,Kan1,KanS,Hex"
      ],
      "metadata": {
        "colab": {
          "base_uri": "https://localhost:8080/",
          "height": 499
        },
        "id": "_DAJTvfvVPql",
        "outputId": "ccea8e97-c938-45b5-e4bc-8d28bc573317"
      },
      "execution_count": null,
      "outputs": [
        {
          "output_type": "execute_result",
          "data": {
            "text/plain": [
              "(array([15814., 15475., 16952., 16522., 16374., 16032., 17000., 17041.,\n",
              "        16776., 16226.]),\n",
              " array([0.  , 0.12, 0.24, 0.36, 0.48, 0.6 , 0.72, 0.84, 0.96, 1.08, 1.2 ]),\n",
              " <BarContainer object of 10 artists>)"
            ]
          },
          "metadata": {},
          "execution_count": 28
        },
        {
          "output_type": "display_data",
          "data": {
            "text/plain": [
              "<Figure size 640x480 with 1 Axes>"
            ],
            "image/png": "[encoded data removed]"
          },
          "metadata": {}
        }
      ]
    },
    {
      "cell_type": "markdown",
      "source": [
        "## HISTOGRAMA DE LOS PARAMETROS DE BUSQUEDA"
      ],
      "metadata": {
        "id": "9XWMm-LDvZ4o"
      }
    },
    {
      "cell_type": "code",
      "source": [
        "# Calcular el mínimo y máximo global de las imágenes\n",
        "global_vmin = np.min([np.min(img) for img in MS])\n",
        "global_vmax = np.max([np.max(img) for img in MS])"
      ],
      "metadata": {
        "id": "5sA0c-B2WoRs"
      },
      "execution_count": null,
      "outputs": []
    },
    {
      "cell_type": "code",
      "source": [
        "plt.imshow(MS[0,:,:],cmap='jet',vmin=global_vmin,vmax=global_vmax)"
      ],
      "metadata": {
        "trusted": true,
        "execution": {
          "iopub.status.busy": "2025-02-05T01:18:17.404841Z",
          "iopub.execute_input": "2025-02-05T01:18:17.405201Z",
          "iopub.status.idle": "2025-02-05T01:18:17.734900Z",
          "shell.execute_reply.started": "2025-02-05T01:18:17.405173Z",
          "shell.execute_reply": "2025-02-05T01:18:17.733874Z"
        },
        "colab": {
          "base_uri": "https://localhost:8080/",
          "height": 448
        },
        "id": "HStOv23QvZ4p",
        "outputId": "37d65c32-e212-4156-e111-15cf6460c4ba"
      },
      "outputs": [
        {
          "output_type": "execute_result",
          "data": {
            "text/plain": [
              "<matplotlib.image.AxesImage at 0x7e959c0f32d0>"
            ]
          },
          "metadata": {},
          "execution_count": 30
        },
        {
          "output_type": "display_data",
          "data": {
            "text/plain": [
              "<Figure size 640x480 with 1 Axes>"
            ],
            "image/png": "[encoded data removed]"
          },
          "metadata": {}
        }
      ],
      "execution_count": null
    },
    {
      "cell_type": "markdown",
      "source": [
        "## SACAMOS UNA MUESTRA DE TODAS LAS IMAGENES ALREDEDOR DE 60000 PARA PODER TRABAJAR COMO VENIAMOS HACIENDOLO"
      ],
      "metadata": {
        "id": "BzYwmDdTV6SL"
      }
    },
    {
      "cell_type": "code",
      "source": [
        "import numpy as np\n",
        "from sklearn.preprocessing import StandardScaler\n",
        "\n",
        "# Combinar las 6 variables en una sola matriz (164212, 6)\n",
        "Y = np.stack([data['KDM'], data['T'], data['Nest'], data['Kan1'], data['KanS'], data['Hex']], axis=1)\n",
        "\n",
        "# Estandarizar (opcional pero recomendado para clustering)\n",
        "scaler = StandardScaler()\n",
        "Y_scaled = scaler.fit_transform(Y)\n"
      ],
      "metadata": {
        "id": "261eTmpVV-Hr"
      },
      "execution_count": null,
      "outputs": []
    },
    {
      "cell_type": "code",
      "source": [
        "from sklearn.cluster import KMeans\n",
        "\n",
        "# Decidir el número de grupos para balancear (por ejemplo, 100 grupos)\n",
        "k = 100\n",
        "kmeans = KMeans(n_clusters=k, random_state=42)\n",
        "cluster_labels = kmeans.fit_predict(Y_scaled)\n"
      ],
      "metadata": {
        "id": "Nod7hWUPXlnP"
      },
      "execution_count": null,
      "outputs": []
    },
    {
      "cell_type": "code",
      "source": [
        "from collections import defaultdict\n",
        "\n",
        "# Asociar cada índice a su cluster\n",
        "cluster_to_indices = defaultdict(list)\n",
        "for idx, label in enumerate(cluster_labels):\n",
        "    cluster_to_indices[label].append(idx)\n",
        "\n",
        "# Ahora extraemos muestras balanceadas de cada cluster\n",
        "samples_per_cluster = 60000 // k\n",
        "selected_indices = []\n",
        "\n",
        "np.random.seed(42)  # Para reproducibilidad\n",
        "\n",
        "for indices in cluster_to_indices.values():\n",
        "    if len(indices) >= samples_per_cluster:\n",
        "        sampled = np.random.choice(indices, samples_per_cluster, replace=False)\n",
        "    else:\n",
        "        # Si hay menos de lo necesario, puedes tomar todos o hacer oversampling si lo deseas\n",
        "        sampled = np.random.choice(indices, samples_per_cluster, replace=True)\n",
        "    selected_indices.extend(sampled)\n",
        "\n",
        "selected_indices = np.array(selected_indices)\n"
      ],
      "metadata": {
        "id": "1qLzxXRdbOsK"
      },
      "execution_count": null,
      "outputs": []
    },
    {
      "cell_type": "code",
      "source": [
        "# Extraer datos balanceados\n",
        "MS_sampled = data['MS'][selected_indices]\n",
        "params_sampled = {\n",
        "    'KDM': data['KDM'][selected_indices],\n",
        "    'T': data['T'][selected_indices],\n",
        "    'Nest': data['Nest'][selected_indices],\n",
        "    'Kan1': data['Kan1'][selected_indices],\n",
        "    'KanS': data['KanS'][selected_indices],\n",
        "    'Hex': data['Hex'][selected_indices]\n",
        "}\n"
      ],
      "metadata": {
        "id": "fflJFwOcbQSi"
      },
      "execution_count": null,
      "outputs": []
    },
    {
      "cell_type": "code",
      "source": [
        "MS_sampled.shape"
      ],
      "metadata": {
        "colab": {
          "base_uri": "https://localhost:8080/"
        },
        "id": "eqN1ji8QcVR5",
        "outputId": "f4ed96bf-786d-45a0-ebbd-12b5447868d2"
      },
      "execution_count": null,
      "outputs": [
        {
          "output_type": "execute_result",
          "data": {
            "text/plain": [
              "(60000, 39, 39, 1)"
            ]
          },
          "metadata": {},
          "execution_count": 37
        }
      ]
    },
    {
      "cell_type": "code",
      "source": [
        "from google.colab import drive\n",
        "drive.mount('/content/drive')"
      ],
      "metadata": {
        "colab": {
          "base_uri": "https://localhost:8080/"
        },
        "id": "TiYImI_sh0MU",
        "outputId": "ee5513c5-c75f-4664-991b-73d5d291bb8d"
      },
      "execution_count": null,
      "outputs": [
        {
          "output_type": "stream",
          "name": "stdout",
          "text": [
            "Mounted at /content/drive\n"
          ]
        }
      ]
    },
    {
      "cell_type": "code",
      "source": [
        "plt.hist(params_sampled['Hex'])"
      ],
      "metadata": {
        "colab": {
          "base_uri": "https://localhost:8080/",
          "height": 517
        },
        "id": "ieHJIsglcX4h",
        "outputId": "4cbf2aee-91cf-4e6f-9f96-13c9ca01cfd4"
      },
      "execution_count": null,
      "outputs": [
        {
          "output_type": "execute_result",
          "data": {
            "text/plain": [
              "(array([5068., 6241., 6133., 5866., 6170., 5887., 5742., 5802., 6094.,\n",
              "        6997.]),\n",
              " array([0.   , 0.005, 0.01 , 0.015, 0.02 , 0.025, 0.03 , 0.035, 0.04 ,\n",
              "        0.045, 0.05 ]),\n",
              " <BarContainer object of 10 artists>)"
            ]
          },
          "metadata": {},
          "execution_count": 45
        },
        {
          "output_type": "display_data",
          "data": {
            "text/plain": [
              "<Figure size 640x480 with 1 Axes>"
            ],
            "image/png": "[encoded data removed]"
          },
          "metadata": {}
        }
      ]
    },
    {
      "cell_type": "markdown",
      "source": [
        "## LLEVAMOS LAS IMAGENES A LA NUEVA DIMENSIÓN"
      ],
      "metadata": {
        "id": "H8pgu2z9Jiav"
      }
    },
    {
      "cell_type": "code",
      "source": [
        "def preprocess_image(image):\n",
        "    image = tf.image.resize(image, (224, 224))  # Redimensionar\n",
        "    image = tf.image.grayscale_to_rgb(image)  # Convertir a 3 canales\n",
        "    return image\n",
        "# Crear dataset de TensorFlow\n",
        "dataset = tf.data.Dataset.from_tensor_slices(MS_sampled)\n",
        "dataset = dataset.map(preprocess_image, num_parallel_calls=tf.data.AUTOTUNE)\n",
        "\n",
        "# Convertir a un array numpy si es necesario\n",
        "processed_images = np.array(list(dataset.as_numpy_iterator()))"
      ],
      "metadata": {
        "id": "ssoXt2KkJmR8"
      },
      "execution_count": null,
      "outputs": []
    },
    {
      "cell_type": "code",
      "source": [
        "np.savez_compressed(\"/content/drive/MyDrive/imagenes_comprimidasBASE_KDM.npz\", data=processed_images)"
      ],
      "metadata": {
        "id": "vTeai6esK9GQ"
      },
      "execution_count": null,
      "outputs": []
    },
    {
      "cell_type": "code",
      "source": [
        "Y = np.stack([\n",
        "    params_sampled['KDM'],\n",
        "    params_sampled['T'],\n",
        "    params_sampled['Nest'], # NUMERO DE ESTADO\n",
        "    params_sampled['Kan1'], # CONSTANTE DE ANISOTROPIA\n",
        "    params_sampled['KanS'], # CONSTANTE DE ANISOTROPIA DE SUPERFICIE\n",
        "    params_sampled['Hex'] #  CAMPO EXTERNO.\n",
        "], axis=1)  # Shape final: (60000, 6)"
      ],
      "metadata": {
        "id": "K2mi7ov4jJu4"
      },
      "execution_count": null,
      "outputs": []
    },
    {
      "cell_type": "code",
      "source": [
        "Y"
      ],
      "metadata": {
        "colab": {
          "base_uri": "https://localhost:8080/"
        },
        "id": "JAx35O5klugR",
        "outputId": "ab598939-66af-4f46-9c66-2de399f6574b"
      },
      "execution_count": null,
      "outputs": [
        {
          "output_type": "execute_result",
          "data": {
            "text/plain": [
              "array([[5.20e-01, 1.17e+01, 8.56e+02, 9.00e-02, 1.57e-01, 3.00e-02],\n",
              "       [8.60e-02, 1.62e+01, 1.48e+02, 6.10e-02, 9.50e-02, 3.60e-02],\n",
              "       [5.14e-01, 1.27e+01, 3.00e+01, 1.24e-01, 1.50e-01, 4.40e-02],\n",
              "       ...,\n",
              "       [9.30e-02, 5.20e+00, 7.80e+01, 1.14e-01, 3.60e-02, 2.70e-02],\n",
              "       [3.70e-01, 4.70e+00, 7.62e+02, 1.55e-01, 6.30e-02, 2.20e-02],\n",
              "       [5.31e-01, 1.80e+00, 1.71e+02, 1.38e-01, 3.40e-02, 1.10e-02]])"
            ]
          },
          "metadata": {},
          "execution_count": 50
        }
      ]
    },
    {
      "cell_type": "code",
      "source": [
        "np.savez_compressed(\"/content/drive/MyDrive/outputsBASE_KDM.npz\", data=Y)"
      ],
      "metadata": {
        "id": "KFCKkeV_iK8M"
      },
      "execution_count": null,
      "outputs": []
    }
  ]
}